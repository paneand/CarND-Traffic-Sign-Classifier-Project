{
 "cells": [
  {
   "cell_type": "markdown",
   "metadata": {},
   "source": [
    "# Self-Driving Car Engineer Nanodegree\n",
    "\n",
    "## Deep Learning\n",
    "\n",
    "## Project: Build a Traffic Sign Recognition Classifier\n",
    "\n",
    "In this notebook, a template is provided for you to implement your functionality in stages, which is required to successfully complete this project. If additional code is required that cannot be included in the notebook, be sure that the Python code is successfully imported and included in your submission if necessary. \n",
    "\n",
    "> **Note**: Once you have completed all of the code implementations, you need to finalize your work by exporting the iPython Notebook as an HTML document. Before exporting the notebook to html, all of the code cells need to have been run so that reviewers can see the final implementation and output. You can then export the notebook by using the menu above and navigating to  \\n\",\n",
    "    \"**File -> Download as -> HTML (.html)**. Include the finished document along with this notebook as your submission. \n",
    "\n",
    "In addition to implementing code, there is a writeup to complete. The writeup should be completed in a separate file, which can be either a markdown file or a pdf document. There is a [write up template](https://github.com/udacity/CarND-Traffic-Sign-Classifier-Project/blob/master/writeup_template.md) that can be used to guide the writing process. Completing the code template and writeup template will cover all of the [rubric points](https://review.udacity.com/#!/rubrics/481/view) for this project.\n",
    "\n",
    "The [rubric](https://review.udacity.com/#!/rubrics/481/view) contains \"Stand Out Suggestions\" for enhancing the project beyond the minimum requirements. The stand out suggestions are optional. If you decide to pursue the \"stand out suggestions\", you can include the code in this Ipython notebook and also discuss the results in the writeup file.\n",
    "\n",
    "\n",
    ">**Note:** Code and Markdown cells can be executed using the **Shift + Enter** keyboard shortcut. In addition, Markdown cells can be edited by typically double-clicking the cell to enter edit mode."
   ]
  },
  {
   "cell_type": "markdown",
   "metadata": {},
   "source": [
    "---\n",
    "## Step 0: Load The Data"
   ]
  },
  {
   "cell_type": "code",
   "execution_count": 27,
   "metadata": {},
   "outputs": [],
   "source": [
    "# Imports\n",
    "import os\n",
    "import pickle\n",
    "import matplotlib.pyplot as plt\n",
    "import matplotlib.image as mpimg\n",
    "import numpy as np\n",
    "import tensorflow as tf\n",
    "import time\n",
    "import random\n",
    "from sklearn.utils import shuffle\n",
    "%matplotlib inline"
   ]
  },
  {
   "cell_type": "code",
   "execution_count": 28,
   "metadata": {},
   "outputs": [
    {
     "name": "stdout",
     "output_type": "stream",
     "text": [
      "Loading...\n",
      "Done!\n"
     ]
    }
   ],
   "source": [
    "# Load pickled data\n",
    "training_file = 'signs/train.p'\n",
    "validation_file= 'signs/valid.p'\n",
    "testing_file = 'signs/test.p'\n",
    "\n",
    "print(\"Loading...\")\n",
    "\n",
    "with open(training_file, mode='rb') as f:\n",
    "    train = pickle.load(f)\n",
    "with open(validation_file, mode='rb') as f:\n",
    "    valid = pickle.load(f)\n",
    "with open(testing_file, mode='rb') as f:\n",
    "    test = pickle.load(f)\n",
    "    \n",
    "X_train, y_train = train['features'], train['labels']\n",
    "X_valid, y_valid = valid['features'], valid['labels']\n",
    "X_test, y_test = test['features'], test['labels']\n",
    "\n",
    "print(\"Done!\")"
   ]
  },
  {
   "cell_type": "markdown",
   "metadata": {},
   "source": [
    "---\n",
    "\n",
    "## Step 1: Dataset Summary & Exploration\n",
    "\n",
    "The pickled data is a dictionary with 4 key/value pairs:\n",
    "\n",
    "- `'features'` is a 4D array containing raw pixel data of the traffic sign images, (num examples, width, height, channels).\n",
    "- `'labels'` is a 1D array containing the label/class id of the traffic sign. The file `signnames.csv` contains id -> name mappings for each id.\n",
    "- `'sizes'` is a list containing tuples, (width, height) representing the original width and height the image.\n",
    "- `'coords'` is a list containing tuples, (x1, y1, x2, y2) representing coordinates of a bounding box around the sign in the image. **THESE COORDINATES ASSUME THE ORIGINAL IMAGE. THE PICKLED DATA CONTAINS RESIZED VERSIONS (32 by 32) OF THESE IMAGES**\n",
    "\n",
    "Complete the basic data summary below. Use python, numpy and/or pandas methods to calculate the data summary rather than hard coding the results. For example, the [pandas shape method](http://pandas.pydata.org/pandas-docs/stable/generated/pandas.DataFrame.shape.html) might be useful for calculating some of the summary results. "
   ]
  },
  {
   "cell_type": "markdown",
   "metadata": {},
   "source": [
    "### Provide a Basic Summary of the Data Set Using Python, Numpy and/or Pandas"
   ]
  },
  {
   "cell_type": "code",
   "execution_count": 29,
   "metadata": {},
   "outputs": [
    {
     "name": "stdout",
     "output_type": "stream",
     "text": [
      "Number of training examples = 34799\n",
      "Number of validation examples = 4410\n",
      "Number of testing examples = 12630\n",
      "Image data shape = (32, 32, 3)\n",
      "Number of classes = 43\n"
     ]
    }
   ],
   "source": [
    "### Replace each question mark with the appropriate value. \n",
    "### Use python, pandas or numpy methods rather than hard coding the results\n",
    "\n",
    "n_train = len(X_train)\n",
    "n_validation = len(X_valid)\n",
    "n_test = len(X_test)\n",
    "image_shape = X_train[0].shape\n",
    "n_classes = len(set(y_train))\n",
    "\n",
    "\n",
    "print(\"Number of training examples =\", n_train)\n",
    "print(\"Number of validation examples =\", n_validation)\n",
    "print(\"Number of testing examples =\", n_test)\n",
    "print(\"Image data shape =\", image_shape)\n",
    "print(\"Number of classes =\", n_classes)"
   ]
  },
  {
   "cell_type": "markdown",
   "metadata": {},
   "source": [
    "### Include an exploratory visualization of the dataset"
   ]
  },
  {
   "cell_type": "markdown",
   "metadata": {},
   "source": [
    "Visualize the German Traffic Signs Dataset using the pickled file(s). This is open ended, suggestions include: plotting traffic sign images, plotting the count of each sign, etc. \n",
    "\n",
    "The [Matplotlib](http://matplotlib.org/) [examples](http://matplotlib.org/examples/index.html) and [gallery](http://matplotlib.org/gallery.html) pages are a great resource for doing visualizations in Python.\n",
    "\n",
    "**NOTE:** It's recommended you start with something simple first. If you wish to do more, come back to it after you've completed the rest of the sections. It can be interesting to look at the distribution of classes in the training, validation and test set. Is the distribution the same? Are there more examples of some classes than others?"
   ]
  },
  {
   "cell_type": "code",
   "execution_count": 30,
   "metadata": {},
   "outputs": [
    {
     "data": {
      "text/plain": [
       "[]"
      ]
     },
     "execution_count": 30,
     "metadata": {},
     "output_type": "execute_result"
    },
    {
     "data": {
      "image/png": "[encoded data removed]",
      "text/plain": [
       "<matplotlib.figure.Figure at 0x235023567b8>"
      ]
     },
     "metadata": {},
     "output_type": "display_data"
    },
    {
     "data": {
      "image/png": "[encoded data removed]",
      "text/plain": [
       "<matplotlib.figure.Figure at 0x235643f99b0>"
      ]
     },
     "metadata": {},
     "output_type": "display_data"
    },
    {
     "data": {
      "image/png": "[encoded data removed]",
      "text/plain": [
       "<matplotlib.figure.Figure at 0x23502419f60>"
      ]
     },
     "metadata": {},
     "output_type": "display_data"
    }
   ],
   "source": [
    "### Data exploration visualization code goes here.\n",
    "### Feel free to use as many code cells as needed.\n",
    "\n",
    "def plot_images_in_row(*images):\n",
    "    i = 1\n",
    "    for image in images :\n",
    "        plt.subplot(2,2,i)\n",
    "        plt.imshow(image)\n",
    "        i+=1\n",
    "\n",
    "# Histograms for training, validation, and test set classes:\n",
    "\n",
    "# Training set\n",
    "plt.hist(y_train, bins=n_classes)\n",
    "plt.title('Traffic signs frequency in the training set')\n",
    "plt.xlabel('Signs')\n",
    "plt.ylabel('Frequency')\n",
    "plt.plot()\n",
    "\n",
    "# Validation set\n",
    "plt.figure()\n",
    "plt.hist(y_valid, bins=n_classes)\n",
    "plt.title('Traffic signs frequency in the validation set')\n",
    "plt.xlabel('Signs')\n",
    "plt.ylabel('Frequency')\n",
    "plt.plot()\n",
    "\n",
    "# Test set\n",
    "plt.figure()\n",
    "plt.hist(y_test, bins=n_classes)\n",
    "plt.title('Traffic signs frequency in the test set')\n",
    "plt.xlabel('Signs')\n",
    "plt.ylabel('Frequency')\n",
    "plt.plot()"
   ]
  },
  {
   "cell_type": "markdown",
   "metadata": {},
   "source": [
    "### Pre-process the Data Set (normalization, grayscale, etc.)"
   ]
  },
  {
   "cell_type": "markdown",
   "metadata": {},
   "source": [
    "Minimally, the image data should be normalized so that the data has mean zero and equal variance. For image data, `(pixel - 128)/ 128` is a quick way to approximately normalize the data and can be used in this project. \n",
    "\n",
    "Other pre-processing steps are optional. You can try different techniques to see if it improves performance. \n",
    "\n",
    "Use the code cell (or multiple code cells, if necessary) to implement the first step of your project."
   ]
  },
  {
   "cell_type": "markdown",
   "metadata": {},
   "source": [
    "## Step 2: Design and Test a Model Architecture\n",
    "\n",
    "Design and implement a deep learning model that learns to recognize traffic signs. Train and test your model on the [German Traffic Sign Dataset](http://benchmark.ini.rub.de/?section=gtsrb&subsection=dataset).\n",
    "\n",
    "The LeNet-5 implementation shown in the [classroom](https://classroom.udacity.com/nanodegrees/nd013/parts/fbf77062-5703-404e-b60c-95b78b2f3f9e/modules/6df7ae49-c61c-4bb2-a23e-6527e69209ec/lessons/601ae704-1035-4287-8b11-e2c2716217ad/concepts/d4aca031-508f-4e0b-b493-e7b706120f81) at the end of the CNN lesson is a solid starting point. You'll have to change the number of classes and possibly the preprocessing, but aside from that it's plug and play! \n",
    "\n",
    "With the LeNet-5 solution from the lecture, you should expect a validation set accuracy of about 0.89. To meet specifications, the validation set accuracy will need to be at least 0.93. It is possible to get an even higher accuracy, but 0.93 is the minimum for a successful project submission. \n",
    "\n",
    "There are various aspects to consider when thinking about this problem:\n",
    "\n",
    "- Neural network architecture (is the network over or underfitting?)\n",
    "- Play around preprocessing techniques (normalization, rgb to grayscale, etc)\n",
    "- Number of examples per label (some have more than others).\n",
    "- Generate fake data.\n",
    "\n",
    "Here is an example of a [published baseline model on this problem](http://yann.lecun.com/exdb/publis/pdf/sermanet-ijcnn-11.pdf). It's not required to be familiar with the approach used in the paper but, it's good practice to try to read papers like these."
   ]
  },
  {
   "cell_type": "code",
   "execution_count": 31,
   "metadata": {},
   "outputs": [
    {
     "name": "stdout",
     "output_type": "stream",
     "text": [
      "Preprocess started...\n",
      "Preprocess ended.\n"
     ]
    }
   ],
   "source": [
    "### Preprocess the data here. It is required to normalize the data. Other preprocessing steps could include \n",
    "### converting to grayscale, etc.\n",
    "### Feel free to use as many code cells as needed.\n",
    "\n",
    "print(\"Preprocess started...\")\n",
    "\n",
    "X_train, y_train = shuffle(X_train, y_train)\n",
    "X_valid, y_valid = shuffle(X_valid, y_valid)\n",
    "X_test, y_test = shuffle(X_test, y_test)\n",
    "\n",
    "X_train_o, X_valid_o, X_test_o = X_train, X_valid, X_test \n",
    "y_train_o, y_valid_o, y_test_o = y_train, y_valid, y_test\n",
    "\n",
    "# Normalization: Zero mean, MSE equals 1\n",
    "\n",
    "X_train = (X_train_o - X_train_o.mean()) / np.sqrt(np.mean((X_train_o - X_train_o.mean())**2))\n",
    "X_valid = (X_valid_o - X_valid_o.mean()) / np.sqrt(np.mean((X_valid_o - X_valid_o.mean())**2))\n",
    "X_test =  (X_test_o - X_test_o.mean()) / np.sqrt(np.mean((X_test_o - X_test_o.mean())**2))\n",
    "\n",
    "\n",
    "print(\"Preprocess ended.\")\n",
    "\n",
    "\n",
    "\n",
    "\n",
    "# TODO understand difference between normalization, standradization, and approx normaz"
   ]
  },
  {
   "cell_type": "code",
   "execution_count": 32,
   "metadata": {},
   "outputs": [
    {
     "name": "stdout",
     "output_type": "stream",
     "text": [
      "Mean = -0.0000000000\n",
      "Dev = 1.0000000000\n"
     ]
    }
   ],
   "source": [
    "mean = X_valid.mean()\n",
    "dev = np.sqrt(np.mean((X_valid - X_valid.mean())**2))\n",
    "\n",
    "print(\"Mean = {:.10f}\".format(mean))\n",
    "print(\"Dev = {:.10f}\".format(dev))"
   ]
  },
  {
   "cell_type": "code",
   "execution_count": 33,
   "metadata": {},
   "outputs": [],
   "source": [
    "# Reset tensor flow graph\n",
    "\n",
    "tf.reset_default_graph()"
   ]
  },
  {
   "cell_type": "code",
   "execution_count": 34,
   "metadata": {},
   "outputs": [
    {
     "data": {
      "image/png": "[encoded data removed]",
      "text/plain": [
       "<matplotlib.figure.Figure at 0x23502629f98>"
      ]
     },
     "metadata": {},
     "output_type": "display_data"
    }
   ],
   "source": [
    "# Print a random image with the normalized version\n",
    "index = random.randint(0,len(X_train_o))\n",
    "plot_images_in_row(X_train_o[index],X_train[index])"
   ]
  },
  {
   "cell_type": "markdown",
   "metadata": {},
   "source": [
    "### Model Architecture"
   ]
  },
  {
   "cell_type": "code",
   "execution_count": 35,
   "metadata": {},
   "outputs": [],
   "source": [
    "############ MODEL HYPERPARAMETERS ############ \n",
    "\n",
    "# Weights init\n",
    "mu = 0\n",
    "sigma = 0.1\n",
    "\n",
    "# Paddings\n",
    "conv_padding_type = 'VALID'\n",
    "pool_padding_type = 'VALID'\n",
    "\n",
    "# Dropouts (keep alive) probability\n",
    "conv_drop = 0.9\n",
    "fc_drop = 0.9\n",
    "\n",
    "\n",
    "\n",
    "############ TRAINING HYPERPARAMETERS ############ \n",
    "EPOCHS = 60\n",
    "BATCH_SIZE = 128\n",
    "rate = 0.001\n",
    "\n"
   ]
  },
  {
   "cell_type": "code",
   "execution_count": 36,
   "metadata": {},
   "outputs": [],
   "source": [
    "\n",
    "### Define your architecture here.\n",
    "### Feel free to use as many code cells as needed.\n",
    "\n",
    "from tensorflow.contrib.layers import flatten\n",
    "\n",
    "def LeNet(x):    \n",
    "    \n",
    "    # Layer 1: Convolutional. Input = 32x32x3. Output = 28x28x6.\n",
    "    conv1_W = tf.Variable(tf.truncated_normal(shape=(5, 5, 3, 6), mean = mu, stddev = sigma))\n",
    "    conv1_b = tf.Variable(tf.zeros(6))\n",
    "    conv1   = tf.nn.conv2d(x, conv1_W, strides=[1, 1, 1, 1], padding=conv_padding_type) + conv1_b\n",
    "    conv1   = tf.nn.relu(conv1)                      # Activation\n",
    "    conv1   = tf.nn.dropout(conv1, conv_drop)        # Dropout\n",
    "\n",
    "    # Pooling. Input = 28x28x6. Output = 14x14x6.\n",
    "    conv1 = tf.nn.max_pool(conv1, ksize=[1, 2, 2, 1], strides=[1, 2, 2, 1], padding=pool_padding_type)\n",
    "\n",
    "    # Layer 2: Convolutional. Output = 10x10x16.\n",
    "    conv2_W = tf.Variable(tf.truncated_normal(shape=(5, 5, 6, 16), mean = mu, stddev = sigma))\n",
    "    conv2_b = tf.Variable(tf.zeros(16))\n",
    "    conv2   = tf.nn.conv2d(conv1, conv2_W, strides=[1, 1, 1, 1], padding=conv_padding_type) + conv2_b\n",
    "    conv2   = tf.nn.relu(conv2)                      # Activation\n",
    "    conv2   = tf.nn.dropout(conv2, conv_drop)        # Dropout\n",
    "\n",
    "    # Pooling. Input = 10x10x16. Output = 5x5x16.\n",
    "    conv2 = tf.nn.max_pool(conv2, ksize=[1, 2, 2, 1], strides=[1, 2, 2, 1], padding=pool_padding_type)\n",
    "    fc0   = flatten(conv2)\n",
    "    \n",
    "    # Layer 3: Fully Connected. Input = 400. Output = 120.\n",
    "    fc1_W = tf.Variable(tf.truncated_normal(shape=(400, 120), mean = mu, stddev = sigma))\n",
    "    fc1_b = tf.Variable(tf.zeros(120))\n",
    "    fc1   = tf.matmul(fc0, fc1_W) + fc1_b\n",
    "    fc1   = tf.nn.relu(fc1)                         # Activation\n",
    "    fc1   = tf.nn.dropout(fc1, fc_drop)             # Dropout\n",
    "\n",
    "    # Layer 4: Fully Connected. Input = 120. Output = 84.\n",
    "    fc2_W  = tf.Variable(tf.truncated_normal(shape=(120, 84), mean = mu, stddev = sigma))\n",
    "    fc2_b  = tf.Variable(tf.zeros(84))\n",
    "    fc2    = tf.matmul(fc1, fc2_W) + fc2_b\n",
    "    fc2    = tf.nn.relu(fc2)\n",
    "    fc2    = tf.nn.dropout(fc2, fc_drop) \n",
    "    \n",
    "    # Layer 5: Fully Connected. Input = 84. Output = 43.\n",
    "    fc3_W  = tf.Variable(tf.truncated_normal(shape=(84, 43), mean = mu, stddev = sigma))\n",
    "    fc3_b  = tf.Variable(tf.zeros(43))\n",
    "    logits = tf.matmul(fc2, fc3_W) + fc3_b\n",
    "    \n",
    "    return logits"
   ]
  },
  {
   "cell_type": "markdown",
   "metadata": {},
   "source": [
    "### Train, Validate and Test the Model"
   ]
  },
  {
   "cell_type": "markdown",
   "metadata": {},
   "source": [
    "A validation set can be used to assess how well the model is performing. A low accuracy on the training and validation\n",
    "sets imply underfitting. A high accuracy on the training set but low accuracy on the validation set implies overfitting."
   ]
  },
  {
   "cell_type": "code",
   "execution_count": 37,
   "metadata": {},
   "outputs": [],
   "source": [
    "### Train your model here.\n",
    "### Calculate and report the accuracy on the training and validation set.\n",
    "### Once a final model architecture is selected, \n",
    "### the accuracy on the test set should be calculated and reported as well.\n",
    "### Feel free to use as many code cells as needed.\n",
    "\n",
    "x = tf.placeholder(tf.float32, (None, 32, 32, 3))\n",
    "y = tf.placeholder(tf.int32, (None))\n",
    "one_hot_y = tf.one_hot(y, 43)\n"
   ]
  },
  {
   "cell_type": "code",
   "execution_count": 38,
   "metadata": {},
   "outputs": [],
   "source": [
    "\n",
    "\n",
    "logits = LeNet(x)\n",
    "cross_entropy = tf.nn.softmax_cross_entropy_with_logits(labels=one_hot_y, logits=logits)\n",
    "loss_operation = tf.reduce_mean(cross_entropy)\n",
    "optimizer = tf.train.AdamOptimizer(learning_rate = rate)\n",
    "training_operation = optimizer.minimize(loss_operation)"
   ]
  },
  {
   "cell_type": "code",
   "execution_count": 39,
   "metadata": {},
   "outputs": [],
   "source": [
    "# Model evaluation functions\n",
    "\n",
    "correct_prediction = tf.equal(tf.argmax(logits, 1), tf.argmax(one_hot_y, 1))\n",
    "accuracy_operation = tf.reduce_mean(tf.cast(correct_prediction, tf.float32))\n",
    "saver = tf.train.Saver()\n",
    "\n",
    "def evaluate(X_data, y_data):\n",
    "    num_examples = len(X_data)\n",
    "    total_accuracy = 0\n",
    "    sess = tf.get_default_session()\n",
    "    for offset in range(0, num_examples, BATCH_SIZE):\n",
    "        batch_x, batch_y = X_data[offset:offset+BATCH_SIZE], y_data[offset:offset+BATCH_SIZE]\n",
    "        accuracy = sess.run(accuracy_operation, feed_dict={x: batch_x, y: batch_y})\n",
    "        total_accuracy += (accuracy * len(batch_x))\n",
    "    return total_accuracy / num_examples"
   ]
  },
  {
   "cell_type": "code",
   "execution_count": 40,
   "metadata": {
    "scrolled": true
   },
   "outputs": [
    {
     "name": "stdout",
     "output_type": "stream",
     "text": [
      "Training...\n",
      "\n",
      "EPOCH 1 ...\n",
      "Training Accuracy = 0.840\n",
      "Validation Accuracy = 0.755\n",
      "--- 109.67597198486328 seconds ---\n",
      "\n",
      "EPOCH 2 ...\n",
      "Training Accuracy = 0.923\n",
      "Validation Accuracy = 0.837\n",
      "--- 221.52580857276917 seconds ---\n",
      "\n",
      "EPOCH 3 ...\n",
      "Training Accuracy = 0.945\n",
      "Validation Accuracy = 0.889\n",
      "--- 332.8366265296936 seconds ---\n",
      "\n",
      "EPOCH 4 ...\n",
      "Training Accuracy = 0.954\n",
      "Validation Accuracy = 0.891\n",
      "--- 438.6734399795532 seconds ---\n",
      "\n",
      "EPOCH 5 ...\n",
      "Training Accuracy = 0.969\n",
      "Validation Accuracy = 0.906\n",
      "--- 544.5669178962708 seconds ---\n",
      "\n",
      "EPOCH 6 ...\n",
      "Training Accuracy = 0.973\n",
      "Validation Accuracy = 0.903\n",
      "--- 649.7903211116791 seconds ---\n",
      "\n",
      "EPOCH 7 ...\n",
      "Training Accuracy = 0.981\n",
      "Validation Accuracy = 0.908\n",
      "--- 755.1838374137878 seconds ---\n",
      "\n",
      "EPOCH 8 ...\n",
      "Training Accuracy = 0.984\n",
      "Validation Accuracy = 0.922\n",
      "--- 860.4032373428345 seconds ---\n",
      "\n",
      "EPOCH 9 ...\n",
      "Training Accuracy = 0.982\n",
      "Validation Accuracy = 0.916\n",
      "--- 966.3381161689758 seconds ---\n",
      "\n",
      "EPOCH 10 ...\n",
      "Training Accuracy = 0.985\n",
      "Validation Accuracy = 0.922\n",
      "--- 1071.6145553588867 seconds ---\n",
      "\n",
      "EPOCH 11 ...\n",
      "Training Accuracy = 0.983\n",
      "Validation Accuracy = 0.916\n",
      "--- 1177.013076543808 seconds ---\n",
      "\n",
      "EPOCH 12 ...\n",
      "Training Accuracy = 0.987\n",
      "Validation Accuracy = 0.928\n",
      "--- 1282.3745703697205 seconds ---\n",
      "\n",
      "EPOCH 13 ...\n",
      "Training Accuracy = 0.988\n",
      "Validation Accuracy = 0.924\n",
      "--- 1387.6013536453247 seconds ---\n",
      "\n",
      "EPOCH 14 ...\n",
      "Training Accuracy = 0.989\n",
      "Validation Accuracy = 0.925\n",
      "--- 1491.8120787143707 seconds ---\n",
      "\n",
      "EPOCH 15 ...\n",
      "Training Accuracy = 0.988\n",
      "Validation Accuracy = 0.917\n",
      "--- 1596.4811108112335 seconds ---\n",
      "\n",
      "EPOCH 16 ...\n",
      "Training Accuracy = 0.986\n",
      "Validation Accuracy = 0.915\n",
      "--- 1700.8719577789307 seconds ---\n",
      "\n",
      "EPOCH 17 ...\n",
      "Training Accuracy = 0.989\n",
      "Validation Accuracy = 0.929\n",
      "--- 1805.1147034168243 seconds ---\n",
      "\n",
      "EPOCH 18 ...\n",
      "Training Accuracy = 0.991\n",
      "Validation Accuracy = 0.924\n",
      "--- 1909.4314994812012 seconds ---\n",
      "\n",
      "EPOCH 19 ...\n",
      "Training Accuracy = 0.990\n",
      "Validation Accuracy = 0.921\n",
      "--- 2013.7082693576813 seconds ---\n",
      "\n",
      "EPOCH 20 ...\n",
      "Training Accuracy = 0.993\n",
      "Validation Accuracy = 0.933\n",
      "--- 2119.808059692383 seconds ---\n",
      "\n",
      "EPOCH 21 ...\n",
      "Training Accuracy = 0.994\n",
      "Validation Accuracy = 0.929\n",
      "--- 2225.4777607917786 seconds ---\n",
      "\n",
      "EPOCH 22 ...\n",
      "Training Accuracy = 0.992\n",
      "Validation Accuracy = 0.932\n",
      "--- 2329.9884011745453 seconds ---\n",
      "\n",
      "EPOCH 23 ...\n",
      "Training Accuracy = 0.991\n",
      "Validation Accuracy = 0.922\n",
      "--- 2434.391256093979 seconds ---\n",
      "\n",
      "EPOCH 24 ...\n",
      "Training Accuracy = 0.994\n",
      "Validation Accuracy = 0.934\n",
      "--- 31950.44429540634 seconds ---\n",
      "\n",
      "EPOCH 25 ...\n",
      "Training Accuracy = 0.993\n",
      "Validation Accuracy = 0.928\n",
      "--- 32062.20718574524 seconds ---\n",
      "\n",
      "EPOCH 26 ...\n",
      "Training Accuracy = 0.993\n",
      "Validation Accuracy = 0.932\n",
      "--- 32186.123683691025 seconds ---\n",
      "\n",
      "EPOCH 27 ...\n",
      "Training Accuracy = 0.993\n",
      "Validation Accuracy = 0.929\n",
      "--- 32304.07883143425 seconds ---\n",
      "\n",
      "EPOCH 28 ...\n",
      "Training Accuracy = 0.994\n",
      "Validation Accuracy = 0.939\n",
      "--- 32411.19950413704 seconds ---\n",
      "\n",
      "EPOCH 29 ...\n",
      "Training Accuracy = 0.994\n",
      "Validation Accuracy = 0.931\n",
      "--- 32516.514968156815 seconds ---\n",
      "\n",
      "EPOCH 30 ...\n",
      "Training Accuracy = 0.995\n",
      "Validation Accuracy = 0.926\n",
      "--- 32621.402146339417 seconds ---\n",
      "\n",
      "EPOCH 31 ...\n",
      "Training Accuracy = 0.995\n",
      "Validation Accuracy = 0.936\n",
      "--- 32725.96310687065 seconds ---\n",
      "\n",
      "EPOCH 32 ...\n",
      "Training Accuracy = 0.995\n",
      "Validation Accuracy = 0.935\n",
      "--- 32831.00196790695 seconds ---\n",
      "\n",
      "EPOCH 33 ...\n",
      "Training Accuracy = 0.994\n",
      "Validation Accuracy = 0.934\n",
      "--- 123566.01841402054 seconds ---\n",
      "\n",
      "EPOCH 34 ...\n",
      "Training Accuracy = 0.995\n",
      "Validation Accuracy = 0.932\n",
      "--- 123690.46094894409 seconds ---\n",
      "\n",
      "EPOCH 35 ...\n",
      "Training Accuracy = 0.996\n",
      "Validation Accuracy = 0.937\n",
      "--- 123826.61213374138 seconds ---\n",
      "\n",
      "EPOCH 36 ...\n",
      "Training Accuracy = 0.996\n",
      "Validation Accuracy = 0.935\n",
      "--- 123951.59726405144 seconds ---\n",
      "\n",
      "EPOCH 37 ...\n",
      "Training Accuracy = 0.996\n",
      "Validation Accuracy = 0.941\n",
      "--- 124088.12132382393 seconds ---\n",
      "\n",
      "EPOCH 38 ...\n",
      "Training Accuracy = 0.995\n",
      "Validation Accuracy = 0.932\n",
      "--- 124218.01789665222 seconds ---\n",
      "\n",
      "EPOCH 39 ...\n",
      "Training Accuracy = 0.995\n",
      "Validation Accuracy = 0.940\n",
      "--- 124334.72544145584 seconds ---\n",
      "\n",
      "EPOCH 40 ...\n",
      "Training Accuracy = 0.995\n",
      "Validation Accuracy = 0.932\n",
      "--- 124440.01822018623 seconds ---\n",
      "\n",
      "EPOCH 41 ...\n",
      "Training Accuracy = 0.996\n",
      "Validation Accuracy = 0.937\n",
      "--- 124550.52215504646 seconds ---\n",
      "\n",
      "EPOCH 42 ...\n",
      "Training Accuracy = 0.995\n",
      "Validation Accuracy = 0.936\n",
      "--- 124656.2578997612 seconds ---\n",
      "\n",
      "EPOCH 43 ...\n",
      "Training Accuracy = 0.995\n",
      "Validation Accuracy = 0.934\n",
      "--- 124761.77683758736 seconds ---\n",
      "\n",
      "EPOCH 44 ...\n",
      "Training Accuracy = 0.995\n",
      "Validation Accuracy = 0.937\n",
      "--- 124871.10267138481 seconds ---\n",
      "\n",
      "EPOCH 45 ...\n",
      "Training Accuracy = 0.994\n",
      "Validation Accuracy = 0.937\n",
      "--- 124978.27594614029 seconds ---\n",
      "\n",
      "EPOCH 46 ...\n",
      "Training Accuracy = 0.995\n",
      "Validation Accuracy = 0.937\n",
      "--- 125085.36532235146 seconds ---\n",
      "\n",
      "EPOCH 47 ...\n",
      "Training Accuracy = 0.996\n",
      "Validation Accuracy = 0.938\n",
      "--- 125192.55114626884 seconds ---\n",
      "\n",
      "EPOCH 48 ...\n",
      "Training Accuracy = 0.996\n",
      "Validation Accuracy = 0.930\n",
      "--- 125298.08309984207 seconds ---\n",
      "\n",
      "EPOCH 49 ...\n",
      "Training Accuracy = 0.996\n",
      "Validation Accuracy = 0.941\n",
      "--- 125407.85959148407 seconds ---\n",
      "\n",
      "EPOCH 50 ...\n",
      "Training Accuracy = 0.995\n",
      "Validation Accuracy = 0.934\n",
      "--- 125512.96791696548 seconds ---\n",
      "\n",
      "EPOCH 51 ...\n",
      "Training Accuracy = 0.997\n",
      "Validation Accuracy = 0.936\n",
      "--- 125617.80506157875 seconds ---\n",
      "\n",
      "EPOCH 52 ...\n",
      "Training Accuracy = 0.997\n",
      "Validation Accuracy = 0.942\n",
      "--- 125724.04514431953 seconds ---\n",
      "\n",
      "EPOCH 53 ...\n",
      "Training Accuracy = 0.996\n",
      "Validation Accuracy = 0.939\n",
      "--- 125831.46401715279 seconds ---\n",
      "\n",
      "EPOCH 54 ...\n",
      "Training Accuracy = 0.997\n",
      "Validation Accuracy = 0.937\n",
      "--- 125938.81584358215 seconds ---\n",
      "\n",
      "EPOCH 55 ...\n",
      "Training Accuracy = 0.997\n",
      "Validation Accuracy = 0.939\n",
      "--- 126046.45186066628 seconds ---\n",
      "\n",
      "EPOCH 56 ...\n",
      "Training Accuracy = 0.997\n",
      "Validation Accuracy = 0.939\n",
      "--- 126153.81769800186 seconds ---\n",
      "\n",
      "EPOCH 57 ...\n",
      "Training Accuracy = 0.996\n",
      "Validation Accuracy = 0.934\n",
      "--- 126266.56559467316 seconds ---\n",
      "\n",
      "EPOCH 58 ...\n",
      "Training Accuracy = 0.997\n",
      "Validation Accuracy = 0.940\n",
      "--- 126389.51585769653 seconds ---\n",
      "\n",
      "EPOCH 59 ...\n",
      "Training Accuracy = 0.996\n",
      "Validation Accuracy = 0.938\n",
      "--- 126505.8514649868 seconds ---\n",
      "\n",
      "EPOCH 60 ...\n",
      "Training Accuracy = 0.997\n",
      "Validation Accuracy = 0.943\n",
      "--- 126612.85105490685 seconds ---\n",
      "\n",
      "Model saved\n"
     ]
    }
   ],
   "source": [
    "# Train\n",
    "\n",
    "with tf.Session() as sess:\n",
    "    sess.run(tf.global_variables_initializer())\n",
    "    num_examples = len(X_train)\n",
    "    start_time = time.time()\n",
    "    print(\"Training...\")\n",
    "    print()\n",
    "    for i in range(EPOCHS):\n",
    "        X_train, y_train = shuffle(X_train, y_train)\n",
    "        for offset in range(0, num_examples, BATCH_SIZE):\n",
    "            end = offset + BATCH_SIZE\n",
    "            batch_x, batch_y = X_train[offset:end], y_train[offset:end]\n",
    "            sess.run(training_operation, feed_dict={x: batch_x, y: batch_y})\n",
    "            \n",
    "        validation_accuracy = evaluate(X_valid, y_valid)\n",
    "        training_accuracy = evaluate(X_train, y_train)\n",
    "        \n",
    "        print(\"EPOCH {} ...\".format(i+1))\n",
    "        print(\"Training Accuracy = {:.3f}\".format(training_accuracy))\n",
    "        print(\"Validation Accuracy = {:.3f}\".format(validation_accuracy))\n",
    "        print(\"--- %s seconds ---\" % (time.time() - start_time))\n",
    "        print()\n",
    "        \n",
    "    saver.save(sess, './lenet')\n",
    "    print(\"Model saved\")"
   ]
  },
  {
   "cell_type": "code",
   "execution_count": 41,
   "metadata": {},
   "outputs": [
    {
     "name": "stdout",
     "output_type": "stream",
     "text": [
      "INFO:tensorflow:Restoring parameters from .\\lenet\n",
      "Test Accuracy = 0.935\n"
     ]
    }
   ],
   "source": [
    "# Model evaluation on test dataset\n",
    "with tf.Session() as sess:\n",
    "    saver.restore(sess, tf.train.latest_checkpoint('.'))\n",
    "\n",
    "    test_accuracy = evaluate(X_test, y_test)\n",
    "    print(\"Test Accuracy = {:.3f}\".format(test_accuracy))"
   ]
  },
  {
   "cell_type": "markdown",
   "metadata": {},
   "source": [
    "---\n",
    "\n",
    "## Step 3: Test a Model on New Images\n",
    "\n",
    "To give yourself more insight into how your model is working, download at least five pictures of German traffic signs from the web and use your model to predict the traffic sign type.\n",
    "\n",
    "You may find `signnames.csv` useful as it contains mappings from the class id (integer) to the actual sign name."
   ]
  },
  {
   "cell_type": "markdown",
   "metadata": {},
   "source": [
    "### Load and Output the Images"
   ]
  },
  {
   "cell_type": "code",
   "execution_count": 63,
   "metadata": {},
   "outputs": [
    {
     "data": {
      "image/png": "[encoded data removed]",
      "text/plain": [
       "<matplotlib.figure.Figure at 0x2356419cdd8>"
      ]
     },
     "metadata": {},
     "output_type": "display_data"
    }
   ],
   "source": [
    "### Load the images and plot them here.\n",
    "### Feel free to use as many code cells as needed.\n",
    "image_names = ['1','2','3','4','5']\n",
    "web_images = [ mpimg.imread('web_signs/' + img + '.jpg' ) for img in image_names ]\n",
    "fig, axes = plt.subplots(ncols=len(web_images), figsize=(16, 8))\n",
    "for ax, image, image_name in zip(axes, web_images, image_names):\n",
    "    ax.imshow(image)\n",
    "    ax.set_title(image_name)"
   ]
  },
  {
   "cell_type": "code",
   "execution_count": 68,
   "metadata": {},
   "outputs": [
    {
     "name": "stdout",
     "output_type": "stream",
     "text": [
      "(5, 32, 32, 3)\n"
     ]
    }
   ],
   "source": [
    "# Normalization \n",
    "web_images_np = np.zeros((len(web_images), 32, 32, 3), np.float64)\n",
    "for index, img in enumerate(web_images):\n",
    "    web_images_np[index] = img.astype(np.float64)\n",
    "\n",
    "web_images_np_norm = (web_images_np - web_images_np.mean()) / np.sqrt(np.mean((web_images_np - web_images_np.mean())**2))\n",
    "\n",
    "print(web_images_np_norm.shape)"
   ]
  },
  {
   "cell_type": "markdown",
   "metadata": {},
   "source": [
    "### Predict the Sign Type for Each Image"
   ]
  },
  {
   "cell_type": "code",
   "execution_count": 84,
   "metadata": {},
   "outputs": [
    {
     "name": "stdout",
     "output_type": "stream",
     "text": [
      "(32, 32, 3)\n",
      "INFO:tensorflow:Restoring parameters from .\\lenet\n"
     ]
    }
   ],
   "source": [
    "### Run the predictions here and use the model to output the prediction for each image.\n",
    "### Make sure to pre-process the images with the same pre-processing pipeline used earlier.\n",
    "### Feel free to use as many code cells as needed.\n",
    "\n",
    "print(web_images_np_norm[0].shape)\n",
    "with tf.Session() as sess:\n",
    "    saver.restore(sess, tf.train.latest_checkpoint('.'))\n",
    "    web_classes = sess.run(logits, feed_dict={x: web_images_np_norm})\n",
    "    web_softmax = sess.run(tf.nn.softmax(logits), feed_dict={x: web_images_np_norm})\n",
    "    predicted_label = sess.run(tf.nn.top_k(web_softmax, k=5, sorted=True))\n",
    "\n",
    "import csv\n",
    "\n",
    "with open('signnames.csv') as file_names:\n",
    "    name_reader = csv.reader(file_names)\n",
    "    i = 0\n",
    "    for row in name_reader:\n",
    "        if i!=0:\n",
    "            label_name[int(row[0])] = row[1]\n",
    "        i+=1\n",
    "\n",
    "named_predictions = [ label_name[predicted_label[1][i][0]] for i in range(0, len(image_names))]\n"
   ]
  },
  {
   "cell_type": "code",
   "execution_count": 85,
   "metadata": {
    "scrolled": true
   },
   "outputs": [
    {
     "data": {
      "image/png": "[encoded data removed]",
      "text/plain": [
       "<matplotlib.figure.Figure at 0x23501ed5860>"
      ]
     },
     "metadata": {},
     "output_type": "display_data"
    }
   ],
   "source": [
    "fig, axes = plt.subplots(ncols=len(webImages), figsize=(16, 8))\n",
    "for ax, image, image_name, predicted_name in zip(axes, web_images, image_names, named_predictions):\n",
    "    index = predicts[1][1]\n",
    "    ax.imshow(image)\n",
    "    ax.set_title('{} \\n {}'.format(image_name, predicted_name))"
   ]
  },
  {
   "cell_type": "markdown",
   "metadata": {},
   "source": [
    "### Analyze Performance"
   ]
  },
  {
   "cell_type": "code",
   "execution_count": 4,
   "metadata": {
    "collapsed": true
   },
   "outputs": [],
   "source": [
    "### Calculate the accuracy for these 5 new images. \n",
    "### For example, if the model predicted 1 out of 5 signs correctly, it's 20% accurate on these new images.\n",
    "\n",
    "#                    Performance is 60%"
   ]
  },
  {
   "cell_type": "markdown",
   "metadata": {},
   "source": [
    "### Output Top 5 Softmax Probabilities For Each Image Found on the Web"
   ]
  },
  {
   "cell_type": "markdown",
   "metadata": {},
   "source": [
    "For each of the new images, print out the model's softmax probabilities to show the **certainty** of the model's predictions (limit the output to the top 5 probabilities for each image). [`tf.nn.top_k`](https://www.tensorflow.org/versions/r0.12/api_docs/python/nn.html#top_k) could prove helpful here. \n",
    "\n",
    "The example below demonstrates how tf.nn.top_k can be used to find the top k predictions for each image.\n",
    "\n",
    "`tf.nn.top_k` will return the values and indices (class ids) of the top k predictions. So if k=3, for each sign, it'll return the 3 largest probabilities (out of a possible 43) and the correspoding class ids.\n",
    "\n",
    "Take this numpy array as an example. The values in the array represent predictions. The array contains softmax probabilities for five candidate images with six possible classes. `tf.nn.top_k` is used to choose the three classes with the highest probability:\n",
    "\n",
    "```\n",
    "# (5, 6) array\n",
    "a = np.array([[ 0.24879643,  0.07032244,  0.12641572,  0.34763842,  0.07893497,\n",
    "         0.12789202],\n",
    "       [ 0.28086119,  0.27569815,  0.08594638,  0.0178669 ,  0.18063401,\n",
    "         0.15899337],\n",
    "       [ 0.26076848,  0.23664738,  0.08020603,  0.07001922,  0.1134371 ,\n",
    "         0.23892179],\n",
    "       [ 0.11943333,  0.29198961,  0.02605103,  0.26234032,  0.1351348 ,\n",
    "         0.16505091],\n",
    "       [ 0.09561176,  0.34396535,  0.0643941 ,  0.16240774,  0.24206137,\n",
    "         0.09155967]])\n",
    "```\n",
    "\n",
    "Running it through `sess.run(tf.nn.top_k(tf.constant(a), k=3))` produces:\n",
    "\n",
    "```\n",
    "TopKV2(values=array([[ 0.34763842,  0.24879643,  0.12789202],\n",
    "       [ 0.28086119,  0.27569815,  0.18063401],\n",
    "       [ 0.26076848,  0.23892179,  0.23664738],\n",
    "       [ 0.29198961,  0.26234032,  0.16505091],\n",
    "       [ 0.34396535,  0.24206137,  0.16240774]]), indices=array([[3, 0, 5],\n",
    "       [0, 1, 4],\n",
    "       [0, 5, 1],\n",
    "       [1, 3, 5],\n",
    "       [1, 4, 3]], dtype=int32))\n",
    "```\n",
    "\n",
    "Looking just at the first row we get `[ 0.34763842,  0.24879643,  0.12789202]`, you can confirm these are the 3 largest probabilities in `a`. You'll also notice `[3, 0, 5]` are the corresponding indices."
   ]
  },
  {
   "cell_type": "code",
   "execution_count": 86,
   "metadata": {},
   "outputs": [
    {
     "name": "stdout",
     "output_type": "stream",
     "text": [
      "Image: 1\n",
      "Probabilities:\n",
      "   1.000000 : 17 - No entry\n",
      "   0.000000 : 34 - Turn left ahead\n",
      "   0.000000 : 9 - No passing\n",
      "   0.000000 : 0 - Speed limit (20km/h)\n",
      "   0.000000 : 3 - Speed limit (60km/h)\n",
      "\n",
      "Image: 2\n",
      "Probabilities:\n",
      "   0.918355 : 39 - Keep left\n",
      "   0.080238 : 14 - Stop\n",
      "   0.001044 : 12 - Priority road\n",
      "   0.000174 : 17 - No entry\n",
      "   0.000134 : 26 - Traffic signals\n",
      "\n",
      "Image: 3\n",
      "Probabilities:\n",
      "   1.000000 : 35 - Ahead only\n",
      "   0.000000 : 33 - Turn right ahead\n",
      "   0.000000 : 36 - Go straight or right\n",
      "   0.000000 : 12 - Priority road\n",
      "   0.000000 : 34 - Turn left ahead\n",
      "\n",
      "Image: 4\n",
      "Probabilities:\n",
      "   1.000000 : 12 - Priority road\n",
      "   0.000000 : 14 - Stop\n",
      "   0.000000 : 17 - No entry\n",
      "   0.000000 : 41 - End of no passing\n",
      "   0.000000 : 42 - End of no passing by vehicles over 3.5 metric tons\n",
      "\n",
      "Image: 5\n",
      "Probabilities:\n",
      "   0.999917 : 22 - Bumpy road\n",
      "   0.000035 : 20 - Dangerous curve to the right\n",
      "   0.000027 : 29 - Bicycles crossing\n",
      "   0.000017 : 38 - Keep right\n",
      "   0.000002 : 18 - General caution\n",
      "\n"
     ]
    }
   ],
   "source": [
    "### Print out the top five softmax probabilities for the predictions on the German traffic sign images found on the web. \n",
    "### Feel free to use as many code cells as needed.\n",
    "\n",
    "for i in range(len(predicted_label[0])):\n",
    "    print('Image: ' + image_names[i])\n",
    "    print('Probabilities:')\n",
    "    for j in range(0, len(predicted_label[0][i])):\n",
    "        prob = predicted_label[0][i][j]\n",
    "        index = predicted_label[1][i][j]\n",
    "        name = label_name[index]\n",
    "        print('   {:.6f} : {} - {}'.format(prob, index, name))\n",
    "    print()"
   ]
  },
  {
   "cell_type": "markdown",
   "metadata": {},
   "source": [
    "### Project Writeup\n",
    "\n",
    "Once you have completed the code implementation, document your results in a project writeup using this [template](https://github.com/udacity/CarND-Traffic-Sign-Classifier-Project/blob/master/writeup_template.md) as a guide. The writeup can be in a markdown or pdf file. "
   ]
  },
  {
   "cell_type": "markdown",
   "metadata": {},
   "source": [
    "> **Note**: Once you have completed all of the code implementations and successfully answered each question above, you may finalize your work by exporting the iPython Notebook as an HTML document. You can do this by using the menu above and navigating to  \\n\",\n",
    "    \"**File -> Download as -> HTML (.html)**. Include the finished document along with this notebook as your submission."
   ]
  },
  {
   "cell_type": "markdown",
   "metadata": {},
   "source": [
    "---\n",
    "\n",
    "## Step 4 (Optional): Visualize the Neural Network's State with Test Images\n",
    "\n",
    " This Section is not required to complete but acts as an additional excersise for understaning the output of a neural network's weights. While neural networks can be a great learning device they are often referred to as a black box. We can understand what the weights of a neural network look like better by plotting their feature maps. After successfully training your neural network you can see what it's feature maps look like by plotting the output of the network's weight layers in response to a test stimuli image. From these plotted feature maps, it's possible to see what characteristics of an image the network finds interesting. For a sign, maybe the inner network feature maps react with high activation to the sign's boundary outline or to the contrast in the sign's painted symbol.\n",
    "\n",
    " Provided for you below is the function code that allows you to get the visualization output of any tensorflow weight layer you want. The inputs to the function should be a stimuli image, one used during training or a new one you provided, and then the tensorflow variable name that represents the layer's state during the training process, for instance if you wanted to see what the [LeNet lab's](https://classroom.udacity.com/nanodegrees/nd013/parts/fbf77062-5703-404e-b60c-95b78b2f3f9e/modules/6df7ae49-c61c-4bb2-a23e-6527e69209ec/lessons/601ae704-1035-4287-8b11-e2c2716217ad/concepts/d4aca031-508f-4e0b-b493-e7b706120f81) feature maps looked like for it's second convolutional layer you could enter conv2 as the tf_activation variable.\n",
    "\n",
    "For an example of what feature map outputs look like, check out NVIDIA's results in their paper [End-to-End Deep Learning for Self-Driving Cars](https://devblogs.nvidia.com/parallelforall/deep-learning-self-driving-cars/) in the section Visualization of internal CNN State. NVIDIA was able to show that their network's inner weights had high activations to road boundary lines by comparing feature maps from an image with a clear path to one without. Try experimenting with a similar test to show that your trained network's weights are looking for interesting features, whether it's looking at differences in feature maps from images with or without a sign, or even what feature maps look like in a trained network vs a completely untrained one on the same sign image.\n",
    "\n",
    "<figure>\n",
    " <img src=\"visualize_cnn.png\" width=\"380\" alt=\"Combined Image\" />\n",
    " <figcaption>\n",
    " <p></p> \n",
    " <p style=\"text-align: center;\"> Your output should look something like this (above)</p> \n",
    " </figcaption>\n",
    "</figure>\n",
    " <p></p> \n"
   ]
  },
  {
   "cell_type": "code",
   "execution_count": null,
   "metadata": {
    "collapsed": true
   },
   "outputs": [],
   "source": [
    "### Visualize your network's feature maps here.\n",
    "### Feel free to use as many code cells as needed.\n",
    "\n",
    "# image_input: the test image being fed into the network to produce the feature maps\n",
    "# tf_activation: should be a tf variable name used during your training procedure that represents the calculated state of a specific weight layer\n",
    "# activation_min/max: can be used to view the activation contrast in more detail, by default matplot sets min and max to the actual min and max values of the output\n",
    "# plt_num: used to plot out multiple different weight feature map sets on the same block, just extend the plt number for each new feature map entry\n",
    "\n",
    "def outputFeatureMap(image_input, tf_activation, activation_min=-1, activation_max=-1 ,plt_num=1):\n",
    "    # Here make sure to preprocess your image_input in a way your network expects\n",
    "    # with size, normalization, ect if needed\n",
    "    # image_input =\n",
    "    # Note: x should be the same name as your network's tensorflow data placeholder variable\n",
    "    # If you get an error tf_activation is not defined it may be having trouble accessing the variable from inside a function\n",
    "    activation = tf_activation.eval(session=sess,feed_dict={x : image_input})\n",
    "    featuremaps = activation.shape[3]\n",
    "    plt.figure(plt_num, figsize=(15,15))\n",
    "    for featuremap in range(featuremaps):\n",
    "        plt.subplot(6,8, featuremap+1) # sets the number of feature maps to show on each row and column\n",
    "        plt.title('FeatureMap ' + str(featuremap)) # displays the feature map number\n",
    "        if activation_min != -1 & activation_max != -1:\n",
    "            plt.imshow(activation[0,:,:, featuremap], interpolation=\"nearest\", vmin =activation_min, vmax=activation_max, cmap=\"gray\")\n",
    "        elif activation_max != -1:\n",
    "            plt.imshow(activation[0,:,:, featuremap], interpolation=\"nearest\", vmax=activation_max, cmap=\"gray\")\n",
    "        elif activation_min !=-1:\n",
    "            plt.imshow(activation[0,:,:, featuremap], interpolation=\"nearest\", vmin=activation_min, cmap=\"gray\")\n",
    "        else:\n",
    "            plt.imshow(activation[0,:,:, featuremap], interpolation=\"nearest\", cmap=\"gray\")"
   ]
  }
 ],
 "metadata": {
  "anaconda-cloud": {},
  "kernelspec": {
   "display_name": "Python 3",
   "language": "python",
   "name": "python3"
  },
  "language_info": {
   "codemirror_mode": {
    "name": "ipython",
    "version": 3
   },
   "file_extension": ".py",
   "mimetype": "text/x-python",
   "name": "python",
   "nbconvert_exporter": "python",
   "pygments_lexer": "ipython3",
   "version": "3.5.2"
  },
  "widgets": {
   "state": {},
   "version": "1.1.2"
  }
 },
 "nbformat": 4,
 "nbformat_minor": 1
}
